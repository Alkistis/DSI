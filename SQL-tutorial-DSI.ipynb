{
 "cells": [
  {
   "cell_type": "markdown",
   "metadata": {},
   "source": [
    "# Part I: the basics\n",
    "\n",
    "Reference: https://www.dataquest.io/blog/sql-basics/"
   ]
  },
  {
   "cell_type": "markdown",
   "metadata": {},
   "source": [
    "#### In this tutorial we'll be working with a dataset from the bike-sharing service Hubway. It includes data for millions of trips made with the service. "
   ]
  },
  {
   "cell_type": "markdown",
   "metadata": {},
   "source": [
    "Download the file here https://dataquest.io/blog/large_files/hubway.db"
   ]
  },
  {
   "cell_type": "markdown",
   "metadata": {},
   "source": [
    "We will be using a database system called SQLite3 (part of Python, for more details see https://www.pythoncentral.io/introduction-to-sqlite-in-python/). Using Python to run our SQL code allows us to import the results into a Pandas dataframe to make it easier to display our results in an easy to read format. "
   ]
  },
  {
   "cell_type": "markdown",
   "metadata": {},
   "source": [
    "#### Let's first define a function that takes our query (stored as a string) as an input and shows the result as a formatted dataframe:"
   ]
  },
  {
   "cell_type": "code",
   "execution_count": null,
   "metadata": {
    "collapsed": true
   },
   "outputs": [],
   "source": [
    "import sqlite3\n",
    "import pandas as pd\n",
    "\n",
    "#connect to the database and open file\n",
    "db = sqlite3.connect('hubway.db')\n",
    "\n",
    "def run_query(query):\n",
    "    #Read SQL query into a DataFrame\n",
    "    return pd.read_sql_query(query,db)"
   ]
  },
  {
   "cell_type": "markdown",
   "metadata": {
    "collapsed": true
   },
   "source": [
    "### The SELECT command\n",
    "\n",
    "Select is the most basic and frequently used command. It tells the database which columns you want to see. Let's check out some examples:"
   ]
  },
  {
   "cell_type": "code",
   "execution_count": null,
   "metadata": {},
   "outputs": [],
   "source": [
    "#let's see the tables the database has\n",
    "#and how they are called\n",
    "\n",
    "query = \"SELECT name FROM sqlite_master \\\n",
    " where type='table';\" #selects \"name\" column\n",
    "run_query(query)"
   ]
  },
  {
   "cell_type": "code",
   "execution_count": null,
   "metadata": {},
   "outputs": [],
   "source": [
    "# \"*\" returns every column \n",
    "query = \"SELECT * FROM sqlite_master where type='table';\" \n",
    "#selects \"name\" column\n",
    "run_query(query)"
   ]
  },
  {
   "cell_type": "markdown",
   "metadata": {},
   "source": [
    "The database has two tables, TRIPS and STATIONS. We will first work with the TRIPS table, which contains information (columns) on id, trip duration, start/end date, etc."
   ]
  },
  {
   "cell_type": "code",
   "execution_count": null,
   "metadata": {},
   "outputs": [],
   "source": [
    "query = 'SELECT * FROM trips LIMIT 5;' \n",
    "run_query(query)"
   ]
  },
  {
   "cell_type": "code",
   "execution_count": null,
   "metadata": {},
   "outputs": [],
   "source": [
    "query = 'SELECT duration, start_date, gender FROM trips LIMIT 5;' \n",
    "run_query(query)"
   ]
  },
  {
   "cell_type": "markdown",
   "metadata": {
    "collapsed": true
   },
   "source": [
    "### The ORDER BY command\n",
    "\n",
    "This command allows you to sort the database on a given column - default is ascending order. Let's use it to find out how long the longest trip lasted."
   ]
  },
  {
   "cell_type": "code",
   "execution_count": null,
   "metadata": {},
   "outputs": [],
   "source": [
    "query = '''\n",
    "SELECT duration \n",
    "FROM trips\n",
    "ORDER BY duration DESC\n",
    "LIMIT 10;\n",
    "'''\n",
    "\n",
    "run_query(query)"
   ]
  },
  {
   "cell_type": "markdown",
   "metadata": {},
   "source": [
    "So the longest trip lasts 9999 seconds (bit less than 3 hours). "
   ]
  },
  {
   "cell_type": "markdown",
   "metadata": {},
   "source": [
    "### The WHERE command\n",
    "\n",
    "The WHERE command is used to specify a certain subset of data. For example you could use the following command to return every trip with a duration longer than 9990 seconds:"
   ]
  },
  {
   "cell_type": "code",
   "execution_count": null,
   "metadata": {},
   "outputs": [],
   "source": [
    "query = '''\n",
    "SELECT * \n",
    "FROM trips\n",
    "WHERE duration > 9990;\n",
    "'''\n",
    "\n",
    "run_query(query)"
   ]
  },
  {
   "cell_type": "markdown",
   "metadata": {},
   "source": [
    "#### Comment:\n",
    "As you can see, the query returned 14 different trips, each with a duration of 9990 seconds or more. Something that stands out about this query is that all but one of the results has a sub_type of \"Casual\". Perhaps this is an indication that \"Registered\" users are more aware of the extra fees for long trips and maybe Hubway could do a better job of conveying their pricing structure to Casual users to help them avoid overage charges."
   ]
  },
  {
   "cell_type": "markdown",
   "metadata": {},
   "source": [
    "#### Let's use AND to specify two conditions: duration > 9990 and Registered user:"
   ]
  },
  {
   "cell_type": "code",
   "execution_count": null,
   "metadata": {},
   "outputs": [],
   "source": [
    "query = '''\n",
    "SELECT * \n",
    "FROM trips\n",
    "WHERE (duration >= 9990) AND (sub_type = \"Registered\")\n",
    "'''\n",
    "\n",
    "run_query(query)"
   ]
  },
  {
   "cell_type": "markdown",
   "metadata": {},
   "source": [
    "#### Now let's answer the question \"How many trips were taken by registered users\". We will use the COUNT command:"
   ]
  },
  {
   "cell_type": "code",
   "execution_count": null,
   "metadata": {},
   "outputs": [],
   "source": [
    "query = '''\n",
    "SELECT COUNT(id)\n",
    "FROM trips\n",
    "WHERE sub_type = \"Registered\";\n",
    "'''\n",
    "\n",
    "run_query(query)"
   ]
  },
  {
   "cell_type": "markdown",
   "metadata": {},
   "source": [
    "#### Use AS to make this more informative/readable:"
   ]
  },
  {
   "cell_type": "code",
   "execution_count": null,
   "metadata": {},
   "outputs": [],
   "source": [
    "query = '''\n",
    "SELECT COUNT(id) AS \"Total Trips by Registered Users\"\n",
    "FROM trips\n",
    "WHERE sub_type = \"Registered\";\n",
    "'''\n",
    "\n",
    "run_query(query)"
   ]
  },
  {
   "cell_type": "markdown",
   "metadata": {},
   "source": [
    "### Aggregate Functions\n",
    "\n",
    "Aggregate functions include COUNT, SUM (returns the sum), AVG (returns the average), MIN (returns the minimum), MAX (returns the maximum). "
   ]
  },
  {
   "cell_type": "code",
   "execution_count": null,
   "metadata": {},
   "outputs": [],
   "source": [
    "query = '''\n",
    "SELECT AVG(duration) AS \"Average Duration\"\n",
    "FROM trips;\n",
    "'''\n",
    "\n",
    "run_query(query)"
   ]
  },
  {
   "cell_type": "code",
   "execution_count": null,
   "metadata": {},
   "outputs": [],
   "source": [
    "query = '''\n",
    "SELECT MIN(duration) AS \"Minimum Duration\"\n",
    "FROM trips;\n",
    "'''\n",
    "\n",
    "run_query(query)"
   ]
  },
  {
   "cell_type": "markdown",
   "metadata": {},
   "source": [
    "### The GROUP BY command\n",
    "\n",
    "GROUP BY separates the rows into groups based on the contents of a particular column and allows us to perform aggregate functions on each group. We'll use this to write a query to answer the question of whether registered or casual users take longer trips."
   ]
  },
  {
   "cell_type": "code",
   "execution_count": null,
   "metadata": {},
   "outputs": [],
   "source": [
    "query = '''\n",
    "SELECT sub_type, AVG(duration) AS \"Average Duration\"\n",
    "FROM trips\n",
    "GROUP BY sub_type; \n",
    "'''\n",
    "# GROUP BY sub_type means the averages of \n",
    "# registered and casual users are calculated separately\n",
    "\n",
    "run_query(query)"
   ]
  },
  {
   "cell_type": "markdown",
   "metadata": {},
   "source": [
    "#### Now let's answer the question of which bike was used for the most trips:"
   ]
  },
  {
   "cell_type": "code",
   "execution_count": null,
   "metadata": {},
   "outputs": [],
   "source": [
    "query = '''\n",
    "SELECT bike_number as \"Bike Number\", COUNT(*) \n",
    "AS \"Number of Trips\"\n",
    "FROM trips\n",
    "GROUP BY bike_number\n",
    "ORDER BY COUNT(*) DESC\n",
    "LIMIT 1;\n",
    "'''\n",
    "\n",
    "run_query(query)"
   ]
  },
  {
   "cell_type": "markdown",
   "metadata": {},
   "source": [
    "### Arithmetic Operators\n",
    "\n",
    "SQL allows us to use arithmetic operators.\n",
    "Let's use them to calculate the average duration of trips by registered members under the age of 40:"
   ]
  },
  {
   "cell_type": "code",
   "execution_count": null,
   "metadata": {},
   "outputs": [],
   "source": [
    "query = '''\n",
    "SELECT AVG(duration)\n",
    "FROM trips\n",
    "WHERE (2018 - birth_date) < 40;\n",
    "'''\n",
    "\n",
    "run_query(query)"
   ]
  },
  {
   "cell_type": "markdown",
   "metadata": {},
   "source": [
    "So far we've been looking at queries that only pull data from the trips table, but you'll remember from the introduction that this database contains a second table, stations. The stations table contains information about every station in the Hubway network and includes an id column that is referenced by the trips table."
   ]
  },
  {
   "cell_type": "markdown",
   "metadata": {},
   "source": [
    "#### Let's have a look:"
   ]
  },
  {
   "cell_type": "code",
   "execution_count": null,
   "metadata": {},
   "outputs": [],
   "source": [
    "query = '''\n",
    "SELECT *\n",
    "FROM stations\n",
    "LIMIT 3;\n",
    "'''\n",
    "run_query(query)"
   ]
  },
  {
   "cell_type": "markdown",
   "metadata": {},
   "source": [
    "#### ID is a unique identifier for each station (corresponds to the start_station and end_station columns in the trips table)."
   ]
  },
  {
   "cell_type": "markdown",
   "metadata": {},
   "source": [
    "#### We want to know which station is the most frequent starting point. For that we will use the JOIN command."
   ]
  },
  {
   "cell_type": "markdown",
   "metadata": {},
   "source": [
    "### JOIN\n",
    "\n",
    "JOIN helps us query information that is stored in different tables.\n",
    "\n",
    "First we want to use SELECT to return the station column from the stations table and the COUNT of the number of rows. To specify which column is in which table we use \n",
    "\n",
    "#### table.column \n",
    "\n",
    "So we need to use\n",
    "\n",
    "#### stations.station\n",
    "\n",
    "To tell the database how the stations and trips tables are connected, we use JOIN and ON.\n",
    "JOIN specifies which tables should be connected and ON specifies which columns in each table are related. We're going to use an INNER JOIN, which means that rows will only be returned where there is a match in our columns specified in ON.\n",
    "\n",
    "So we tell the database to connect the tables ON the start_station column in the trips table and the id column in the stations table.\n",
    "\n",
    "Then we GROUP BY the station column in the stations table so that our COUNT will count up the number of trips for each station separately, and we ORDER BY descending order."
   ]
  },
  {
   "cell_type": "code",
   "execution_count": null,
   "metadata": {},
   "outputs": [],
   "source": [
    "query = '''\n",
    "SELECT stations.station AS \"Station\", COUNT(*) AS \"Count\"\n",
    "FROM trips \n",
    "INNER JOIN stations\n",
    "ON trips.start_station = stations.id\n",
    "GROUP BY stations.station\n",
    "ORDER BY COUNT(*) DESC\n",
    "LIMIT 5;\n",
    "'''\n",
    "\n",
    "run_query(query)"
   ]
  },
  {
   "cell_type": "markdown",
   "metadata": {},
   "source": [
    "#### Let's slightly extend this query to see which stations are most frequently used for round trips:"
   ]
  },
  {
   "cell_type": "code",
   "execution_count": null,
   "metadata": {},
   "outputs": [],
   "source": [
    "query = '''\n",
    "SELECT stations.station AS \"Station\", COUNT(*) AS \"Count\"\n",
    "FROM trips \n",
    "INNER JOIN stations\n",
    "ON trips.start_station = stations.id\n",
    "WHERE trips.start_station = trips.end_station\n",
    "GROUP BY stations.station\n",
    "ORDER BY COUNT(*) DESC\n",
    "LIMIT 5;\n",
    "'''\n",
    "\n",
    "run_query(query)"
   ]
  },
  {
   "cell_type": "markdown",
   "metadata": {},
   "source": [
    "## Tutorial Exercises"
   ]
  },
  {
   "cell_type": "markdown",
   "metadata": {},
   "source": [
    "#### [1] Display the TRIPS information for the duration, subscription type, and gender."
   ]
  },
  {
   "cell_type": "markdown",
   "metadata": {},
   "source": [
    "#### [2] Some gender values are null. Display the previous table with the null gender rows omitted. First 10 rows only."
   ]
  },
  {
   "cell_type": "markdown",
   "metadata": {},
   "source": [
    "#### [3] Same as before, but only the lines who have Female gender."
   ]
  },
  {
   "cell_type": "markdown",
   "metadata": {},
   "source": [
    "#### [4] How many trips lasted more than half an hour, which means they incurred additional fees? Write two queries: One for seeing all the information about these trips, and one showing only their number."
   ]
  },
  {
   "cell_type": "markdown",
   "metadata": {},
   "source": [
    "Half an hour = 30 minutes = 1800 seconds"
   ]
  },
  {
   "cell_type": "markdown",
   "metadata": {},
   "source": [
    "#### [5] Same as before, but also order by descending duration of trip."
   ]
  },
  {
   "cell_type": "markdown",
   "metadata": {},
   "source": [
    "#### [6] Which station do the shortest trips start from? Note we want the station's name, not just the number."
   ]
  },
  {
   "cell_type": "markdown",
   "metadata": {
    "collapsed": true
   },
   "source": [
    "#### [7] How many trips start and end in different municipalities? "
   ]
  },
  {
   "cell_type": "markdown",
   "metadata": {},
   "source": [
    "#### [8] Create a subquery to only show the duration and end_station information from start station 144."
   ]
  },
  {
   "cell_type": "markdown",
   "metadata": {},
   "source": [
    "#### [9] Combine start and end station numbers in one column separated by a hyphen. Show this column together with id and duration only."
   ]
  },
  {
   "cell_type": "markdown",
   "metadata": {},
   "source": [
    "#### DSI SQL tutorial, 2018"
   ]
  }
 ],
 "metadata": {
  "kernelspec": {
   "display_name": "Python 3",
   "language": "python",
   "name": "python3"
  },
  "language_info": {
   "codemirror_mode": {
    "name": "ipython",
    "version": 3
   },
   "file_extension": ".py",
   "mimetype": "text/x-python",
   "name": "python",
   "nbconvert_exporter": "python",
   "pygments_lexer": "ipython3",
   "version": "3.6.3"
  }
 },
 "nbformat": 4,
 "nbformat_minor": 2
}
